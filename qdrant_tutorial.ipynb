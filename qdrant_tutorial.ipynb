{
 "cells": [
  {
   "cell_type": "code",
   "execution_count": 1,
   "id": "8a08f301-8cf2-4b8a-9708-b032fc8f9b40",
   "metadata": {},
   "outputs": [],
   "source": [
    "from qdrant_client import QdrantClient\n",
    "from qdrant_client.http import models\n",
    "import numpy as np\n",
    "from faker import Faker\n",
    "from typing import List"
   ]
  },
  {
   "cell_type": "code",
   "execution_count": 2,
   "id": "e0534d39-d71f-4d7b-af60-abeb8babcb2a",
   "metadata": {},
   "outputs": [],
   "source": [
    "client = QdrantClient(host=\"localhost\", port=6333)"
   ]
  },
  {
   "cell_type": "code",
   "execution_count": 3,
   "id": "ad94f73f",
   "metadata": {},
   "outputs": [
    {
     "data": {
      "text/plain": [
       "True"
      ]
     },
     "execution_count": 3,
     "metadata": {},
     "output_type": "execute_result"
    }
   ],
   "source": [
    "my_collection = \"first_collection\"\n",
    "client.create_collection(\n",
    "    collection_name=my_collection,\n",
    "    vectors_config=models.VectorParams(size=100, distance=models.Distance.COSINE)\n",
    ")"
   ]
  },
  {
   "cell_type": "code",
   "execution_count": 4,
   "id": "48adef86",
   "metadata": {},
   "outputs": [
    {
     "data": {
      "text/plain": [
       "[990, 991, 992, 993, 994, 995, 996, 997, 998, 999]"
      ]
     },
     "execution_count": 4,
     "metadata": {},
     "output_type": "execute_result"
    }
   ],
   "source": [
    "data = np.random.uniform(low=0.0, high=1.0, size=(1_000, 100))\n",
    "index: List = list(range(1_000))\n",
    "index[-10:]"
   ]
  },
  {
   "cell_type": "code",
   "execution_count": 5,
   "id": "37187e16",
   "metadata": {},
   "outputs": [
    {
     "data": {
      "text/plain": [
       "UpdateResult(operation_id=0, status=<UpdateStatus.COMPLETED: 'completed'>)"
      ]
     },
     "execution_count": 5,
     "metadata": {},
     "output_type": "execute_result"
    }
   ],
   "source": [
    "client.upsert(\n",
    "    collection_name=my_collection,\n",
    "    points=models.Batch(\n",
    "        ids=index,\n",
    "        vectors=data.tolist(),\n",
    "    )\n",
    ")"
   ]
  },
  {
   "cell_type": "code",
   "execution_count": 6,
   "id": "f0ac67b2",
   "metadata": {},
   "outputs": [
    {
     "data": {
      "text/plain": [
       "[Record(id=14, payload={}, vector=None, shard_key=None),\n",
       " Record(id=10, payload={}, vector=None, shard_key=None),\n",
       " Record(id=500, payload={}, vector=None, shard_key=None)]"
      ]
     },
     "execution_count": 6,
     "metadata": {},
     "output_type": "execute_result"
    }
   ],
   "source": [
    "client.retrieve(\n",
    "    collection_name=my_collection,\n",
    "    ids=[10,14,500],\n",
    ")"
   ]
  },
  {
   "cell_type": "code",
   "execution_count": 7,
   "id": "a0b81178",
   "metadata": {},
   "outputs": [
    {
     "data": {
      "text/plain": [
       "[{'artist': 'Brandon Smith',\n",
       "  'song': 'term foot into',\n",
       "  'url_song': 'https://williams.biz/',\n",
       "  'year': '1987',\n",
       "  'country': 'Bolivia'},\n",
       " {'artist': 'Richard Barnes',\n",
       "  'song': 'stock positive smile',\n",
       "  'url_song': 'http://dennis-velazquez.org/',\n",
       "  'year': '2012',\n",
       "  'country': 'Kiribati'}]"
      ]
     },
     "execution_count": 7,
     "metadata": {},
     "output_type": "execute_result"
    }
   ],
   "source": [
    "fakerInstance = Faker()\n",
    "\n",
    "payload: List[models.Payload] = []\n",
    "\n",
    "for i in range(1_000):\n",
    "    payload.append({\n",
    "        \"artist\": fakerInstance.name(),\n",
    "        \"song\": \" \".join(fakerInstance.words()),\n",
    "        \"url_song\": fakerInstance.url(),\n",
    "        \"year\": fakerInstance.year(),\n",
    "        \"country\": fakerInstance.country()\n",
    "    })\n",
    "    \n",
    "payload[:2]"
   ]
  },
  {
   "cell_type": "code",
   "execution_count": 8,
   "id": "566d84a1",
   "metadata": {},
   "outputs": [
    {
     "data": {
      "text/plain": [
       "UpdateResult(operation_id=1, status=<UpdateStatus.COMPLETED: 'completed'>)"
      ]
     },
     "execution_count": 8,
     "metadata": {},
     "output_type": "execute_result"
    }
   ],
   "source": [
    "client.upsert(\n",
    "    collection_name=my_collection,\n",
    "    points=models.Batch(\n",
    "        ids=index,\n",
    "        vectors=data.tolist(),\n",
    "        payloads=payload\n",
    "    )\n",
    ")"
   ]
  },
  {
   "cell_type": "markdown",
   "id": "a4c3f9f9",
   "metadata": {},
   "source": [
    "## Semantic Search"
   ]
  },
  {
   "cell_type": "code",
   "execution_count": 9,
   "id": "57ebb7a7",
   "metadata": {},
   "outputs": [
    {
     "data": {
      "text/plain": [
       "[-0.26216005629485917,\n",
       " -0.901491149448618,\n",
       " 0.045003041951861666,\n",
       " -0.9960473680032687,\n",
       " 0.29745093447643267]"
      ]
     },
     "execution_count": 9,
     "metadata": {},
     "output_type": "execute_result"
    }
   ],
   "source": [
    "living_la_vida_loca = np.random.uniform(low=-1.0, high=1.0, size=(100)).tolist()\n",
    "living_la_vida_loca[:5]"
   ]
  },
  {
   "cell_type": "code",
   "execution_count": 10,
   "id": "6fda2b66",
   "metadata": {},
   "outputs": [
    {
     "data": {
      "text/plain": [
       "[ScoredPoint(id=698, version=1, score=0.32491204, payload={'artist': 'Jeffrey Ramsey', 'country': 'Guinea-Bissau', 'song': 'other paper program', 'url_song': 'http://moss.com/', 'year': '2013'}, vector=None, shard_key=None),\n",
       " ScoredPoint(id=504, version=1, score=0.27215195, payload={'artist': 'Dawn Juarez', 'country': 'Switzerland', 'song': 'southern PM expect', 'url_song': 'https://www.carter.com/', 'year': '1980'}, vector=None, shard_key=None),\n",
       " ScoredPoint(id=314, version=1, score=0.26946408, payload={'artist': 'Joshua Booth', 'country': 'Oman', 'song': 'herself organization hospital', 'url_song': 'https://holland.com/', 'year': '2011'}, vector=None, shard_key=None),\n",
       " ScoredPoint(id=179, version=1, score=0.26808584, payload={'artist': 'Bobby Hale', 'country': 'Kiribati', 'song': 'put also next', 'url_song': 'http://www.berry-cortez.org/', 'year': '1989'}, vector=None, shard_key=None),\n",
       " ScoredPoint(id=168, version=1, score=0.26779476, payload={'artist': 'Evan Hawkins MD', 'country': 'Belarus', 'song': 'do standard tell', 'url_song': 'https://www.brooks.com/', 'year': '2000'}, vector=None, shard_key=None)]"
      ]
     },
     "execution_count": 10,
     "metadata": {},
     "output_type": "execute_result"
    }
   ],
   "source": [
    "client.search(\n",
    "    collection_name=my_collection,\n",
    "    query_vector=living_la_vida_loca,\n",
    "    limit=5\n",
    ")"
   ]
  }
 ],
 "metadata": {
  "kernelspec": {
   "display_name": "Python 3 (ipykernel)",
   "language": "python",
   "name": "python3"
  },
  "language_info": {
   "codemirror_mode": {
    "name": "ipython",
    "version": 3
   },
   "file_extension": ".py",
   "mimetype": "text/x-python",
   "name": "python",
   "nbconvert_exporter": "python",
   "pygments_lexer": "ipython3",
   "version": "3.10.13"
  }
 },
 "nbformat": 4,
 "nbformat_minor": 5
}
