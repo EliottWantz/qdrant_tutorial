{
 "cells": [
  {
   "cell_type": "code",
   "execution_count": 5,
   "id": "8a08f301-8cf2-4b8a-9708-b032fc8f9b40",
   "metadata": {},
   "outputs": [],
   "source": [
    "from qdrant_client import QdrantClient\n",
    "from qdrant_client.http import models\n",
    "import numpy as np\n",
    "from faker import Faker\n",
    "from typing import List"
   ]
  },
  {
   "cell_type": "code",
   "execution_count": 6,
   "id": "e0534d39-d71f-4d7b-af60-abeb8babcb2a",
   "metadata": {},
   "outputs": [],
   "source": [
    "client = QdrantClient(host=\"localhost\", port=6333)"
   ]
  },
  {
   "cell_type": "code",
   "execution_count": 7,
   "id": "ad94f73f",
   "metadata": {},
   "outputs": [
    {
     "data": {
      "text/plain": [
       "True"
      ]
     },
     "execution_count": 7,
     "metadata": {},
     "output_type": "execute_result"
    }
   ],
   "source": [
    "my_collection = \"first_collection\"\n",
    "client.create_collection(\n",
    "    collection_name=my_collection,\n",
    "    vectors_config=models.VectorParams(size=100, distance=models.Distance.COSINE)\n",
    ")"
   ]
  },
  {
   "cell_type": "code",
   "execution_count": 8,
   "id": "48adef86",
   "metadata": {},
   "outputs": [
    {
     "data": {
      "text/plain": [
       "[990, 991, 992, 993, 994, 995, 996, 997, 998, 999]"
      ]
     },
     "execution_count": 8,
     "metadata": {},
     "output_type": "execute_result"
    }
   ],
   "source": [
    "data = np.random.uniform(low=0.0, high=1.0, size=(1_000, 100))\n",
    "index: List = list(range(1_000))\n",
    "index[-10:]"
   ]
  },
  {
   "cell_type": "code",
   "execution_count": 9,
   "id": "37187e16",
   "metadata": {},
   "outputs": [
    {
     "data": {
      "text/plain": [
       "UpdateResult(operation_id=0, status=<UpdateStatus.COMPLETED: 'completed'>)"
      ]
     },
     "execution_count": 9,
     "metadata": {},
     "output_type": "execute_result"
    }
   ],
   "source": [
    "client.upsert(\n",
    "    collection_name=my_collection,\n",
    "    points=models.Batch(\n",
    "        ids=index,\n",
    "        vectors=data.tolist(),\n",
    "    )\n",
    ")"
   ]
  },
  {
   "cell_type": "code",
   "execution_count": 10,
   "id": "f0ac67b2",
   "metadata": {},
   "outputs": [
    {
     "data": {
      "text/plain": [
       "[Record(id=500, payload={}, vector=None, shard_key=None),\n",
       " Record(id=14, payload={}, vector=None, shard_key=None),\n",
       " Record(id=10, payload={}, vector=None, shard_key=None)]"
      ]
     },
     "execution_count": 10,
     "metadata": {},
     "output_type": "execute_result"
    }
   ],
   "source": [
    "client.retrieve(\n",
    "    collection_name=my_collection,\n",
    "    ids=[10,14,500],\n",
    ")"
   ]
  },
  {
   "cell_type": "code",
   "execution_count": 11,
   "id": "a0b81178",
   "metadata": {},
   "outputs": [
    {
     "data": {
      "text/plain": [
       "[{'artist': 'Daniel Hess',\n",
       "  'song': 'poor positive who',\n",
       "  'url_song': 'https://hill-harmon.com/',\n",
       "  'year': '1975',\n",
       "  'country': 'Kuwait'},\n",
       " {'artist': 'Nathan Brown',\n",
       "  'song': 'record give personal',\n",
       "  'url_song': 'https://www.church-walker.com/',\n",
       "  'year': '2022',\n",
       "  'country': 'Vietnam'}]"
      ]
     },
     "execution_count": 11,
     "metadata": {},
     "output_type": "execute_result"
    }
   ],
   "source": [
    "fakerInstance = Faker()\n",
    "\n",
    "payload: List[models.Payload] = []\n",
    "\n",
    "for i in range(1_000):\n",
    "    payload.append({\n",
    "        \"artist\": fakerInstance.name(),\n",
    "        \"song\": \" \".join(fakerInstance.words()),\n",
    "        \"url_song\": fakerInstance.url(),\n",
    "        \"year\": fakerInstance.year(),\n",
    "        \"country\": fakerInstance.country()\n",
    "    })\n",
    "    \n",
    "payload[:2]"
   ]
  },
  {
   "cell_type": "code",
   "execution_count": 12,
   "id": "566d84a1",
   "metadata": {},
   "outputs": [
    {
     "data": {
      "text/plain": [
       "UpdateResult(operation_id=1, status=<UpdateStatus.COMPLETED: 'completed'>)"
      ]
     },
     "execution_count": 12,
     "metadata": {},
     "output_type": "execute_result"
    }
   ],
   "source": [
    "client.upsert(\n",
    "    collection_name=my_collection,\n",
    "    points=models.Batch(\n",
    "        ids=index,\n",
    "        vectors=data.tolist(),\n",
    "        payloads=payload\n",
    "    )\n",
    ")"
   ]
  },
  {
   "cell_type": "markdown",
   "id": "a4c3f9f9",
   "metadata": {},
   "source": [
    "## Semantic Search"
   ]
  },
  {
   "cell_type": "code",
   "execution_count": 13,
   "id": "57ebb7a7",
   "metadata": {},
   "outputs": [
    {
     "data": {
      "text/plain": [
       "[0.5934405285210862,\n",
       " -0.031250302953845344,\n",
       " -0.4395631275418581,\n",
       " -0.5910097345329408,\n",
       " -0.5351707327860356]"
      ]
     },
     "execution_count": 13,
     "metadata": {},
     "output_type": "execute_result"
    }
   ],
   "source": [
    "living_la_vida_loca = np.random.uniform(low=-1.0, high=1.0, size=(100)).tolist()\n",
    "living_la_vida_loca[:5]"
   ]
  },
  {
   "cell_type": "code",
   "execution_count": 14,
   "id": "6fda2b66",
   "metadata": {},
   "outputs": [
    {
     "data": {
      "text/plain": [
       "[ScoredPoint(id=533, version=1, score=0.053160086, payload={'artist': 'Luis Robinson', 'country': 'Antigua and Barbuda', 'song': 'return write front', 'url_song': 'http://reed.com/', 'year': '2006'}, vector=None, shard_key=None),\n",
       " ScoredPoint(id=37, version=1, score=0.049821205, payload={'artist': 'Gina Cruz', 'country': 'Iraq', 'song': 'always might collection', 'url_song': 'http://moore-gordon.com/', 'year': '1977'}, vector=None, shard_key=None),\n",
       " ScoredPoint(id=969, version=1, score=0.049208406, payload={'artist': 'Haley Jones', 'country': 'Kuwait', 'song': 'fund past move', 'url_song': 'http://archer.com/', 'year': '1994'}, vector=None, shard_key=None),\n",
       " ScoredPoint(id=858, version=1, score=0.036787193, payload={'artist': 'Paul Vasquez', 'country': 'Palau', 'song': 'prepare figure day', 'url_song': 'http://taylor.info/', 'year': '1981'}, vector=None, shard_key=None),\n",
       " ScoredPoint(id=437, version=1, score=0.031494234, payload={'artist': 'Matthew Mcdonald', 'country': 'Senegal', 'song': 'almost rock focus', 'url_song': 'http://www.lopez-bell.com/', 'year': '1984'}, vector=None, shard_key=None)]"
      ]
     },
     "execution_count": 14,
     "metadata": {},
     "output_type": "execute_result"
    }
   ],
   "source": [
    "client.search(\n",
    "    collection_name=my_collection,\n",
    "    query_vector=living_la_vida_loca,\n",
    "    limit=5\n",
    ")"
   ]
  },
  {
   "cell_type": "markdown",
   "id": "57a2c316",
   "metadata": {},
   "source": [
    "### French songs only"
   ]
  },
  {
   "cell_type": "code",
   "execution_count": 15,
   "id": "d0c396db",
   "metadata": {},
   "outputs": [
    {
     "data": {
      "text/plain": [
       "Filter(should=None, must=[FieldCondition(key='country', match=MatchValue(value='France'), range=None, geo_bounding_box=None, geo_radius=None, geo_polygon=None, values_count=None)], must_not=None)"
      ]
     },
     "execution_count": 15,
     "metadata": {},
     "output_type": "execute_result"
    }
   ],
   "source": [
    "french_songs = models.Filter(\n",
    "    must=[\n",
    "        models.FieldCondition(\n",
    "            key=\"country\",\n",
    "            match=models.MatchValue(value=\"France\")\n",
    "        )\n",
    "    ]\n",
    ")\n",
    "french_songs"
   ]
  },
  {
   "cell_type": "code",
   "execution_count": 16,
   "id": "54eddcf6",
   "metadata": {},
   "outputs": [
    {
     "data": {
      "text/plain": [
       "[ScoredPoint(id=350, version=1, score=-0.062317606, payload={'artist': 'Brent Phillips', 'country': 'France', 'song': 'open message available', 'url_song': 'http://www.jensen.com/', 'year': '1995'}, vector=None, shard_key=None),\n",
       " ScoredPoint(id=707, version=1, score=-0.11642556, payload={'artist': 'Thomas Gonzales', 'country': 'France', 'song': 'notice American itself', 'url_song': 'http://faulkner-reeves.info/', 'year': '1983'}, vector=None, shard_key=None),\n",
       " ScoredPoint(id=836, version=1, score=-0.18270856, payload={'artist': 'Mrs. Eileen Medina', 'country': 'France', 'song': 'than will avoid', 'url_song': 'https://montgomery.biz/', 'year': '2019'}, vector=None, shard_key=None)]"
      ]
     },
     "execution_count": 16,
     "metadata": {},
     "output_type": "execute_result"
    }
   ],
   "source": [
    "client.search(\n",
    "    collection_name=my_collection,\n",
    "    query_vector=living_la_vida_loca,\n",
    "    query_filter=french_songs,\n",
    "    limit=5,\n",
    ")"
   ]
  },
  {
   "cell_type": "markdown",
   "id": "17a74fd2",
   "metadata": {},
   "source": [
    "## Recommendation"
   ]
  },
  {
   "cell_type": "code",
   "execution_count": 20,
   "id": "08c801f4",
   "metadata": {},
   "outputs": [
    {
     "data": {
      "text/plain": [
       "[ScoredPoint(id=836, version=1, score=0.737018, payload={'artist': 'Mrs. Eileen Medina', 'country': 'France', 'song': 'than will avoid', 'url_song': 'https://montgomery.biz/', 'year': '2019'}, vector=None, shard_key=None),\n",
       " ScoredPoint(id=707, version=1, score=0.7127339, payload={'artist': 'Thomas Gonzales', 'country': 'France', 'song': 'notice American itself', 'url_song': 'http://faulkner-reeves.info/', 'year': '1983'}, vector=None, shard_key=None),\n",
       " ScoredPoint(id=350, version=1, score=0.69959104, payload={'artist': 'Brent Phillips', 'country': 'France', 'song': 'open message available', 'url_song': 'http://www.jensen.com/', 'year': '1995'}, vector=None, shard_key=None)]"
      ]
     },
     "execution_count": 20,
     "metadata": {},
     "output_type": "execute_result"
    }
   ],
   "source": [
    "client.recommend(\n",
    "    collection_name=my_collection,\n",
    "    positive=[17,19,944],\n",
    "    negative=[100, 444],\n",
    "    query_filter=french_songs,\n",
    "    limit=5\n",
    ")"
   ]
  }
 ],
 "metadata": {
  "kernelspec": {
   "display_name": "Python 3 (ipykernel)",
   "language": "python",
   "name": "python3"
  },
  "language_info": {
   "codemirror_mode": {
    "name": "ipython",
    "version": 3
   },
   "file_extension": ".py",
   "mimetype": "text/x-python",
   "name": "python",
   "nbconvert_exporter": "python",
   "pygments_lexer": "ipython3",
   "version": "3.10.13"
  }
 },
 "nbformat": 4,
 "nbformat_minor": 5
}
